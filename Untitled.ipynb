{
 "cells": [
  {
   "cell_type": "markdown",
   "metadata": {},
   "source": [
    "## Daily Codes"
   ]
  },
  {
   "cell_type": "markdown",
   "metadata": {},
   "source": [
    "##  Madlibs"
   ]
  },
  {
   "cell_type": "code",
   "execution_count": 1,
   "metadata": {},
   "outputs": [
    {
     "name": "stdout",
     "output_type": "stream",
     "text": [
      "Input a letter:K\n",
      "K\n"
     ]
    }
   ],
   "source": [
    "# Day 1: String Concatenation\n",
    "example = input('Input a letter:')\n",
    "print(example)"
   ]
  },
  {
   "cell_type": "code",
   "execution_count": 2,
   "metadata": {},
   "outputs": [
    {
     "name": "stdout",
     "output_type": "stream",
     "text": [
      "Enter a noun:Youtube\n",
      "Enter a verb:learn\n",
      "Enter a noun:programming\n",
      "noun:codes\n",
      "verb:subscribe\n",
      "noun:channel\n"
     ]
    },
    {
     "data": {
      "text/plain": [
       "'Hey! welcome to my Youtube. Here, we learn about programming and have fun with codes.Make sure you learn to my channel'"
      ]
     },
     "execution_count": 2,
     "metadata": {},
     "output_type": "execute_result"
    }
   ],
   "source": [
    "noun = input(\"Enter a noun:\")\n",
    "verb = input(\"Enter a verb:\")\n",
    "noun2 = input(\"Enter a noun:\")\n",
    "noun3 = input(\"noun:\")\n",
    "verb2 = input(\"verb:\")\n",
    "noun4 = input(\"noun:\")\n",
    "madlibs =\"Hey! welcome to my \"+ noun +\". Here, we \"+ verb +\" about \"+ noun2 +\" and have fun with \"+ noun3 +\".Make sure you \"+ verb +\" to my \"+noun4 +\"\"\n",
    "madlibs"
   ]
  },
  {
   "cell_type": "code",
   "execution_count": 3,
   "metadata": {},
   "outputs": [
    {
     "data": {
      "text/plain": [
       "' Hey! welcome to my Youtube. Here we learn about programming and have fun with codes. Make sure you learn to my channel.'"
      ]
     },
     "execution_count": 3,
     "metadata": {},
     "output_type": "execute_result"
    }
   ],
   "source": [
    "# Writing  the same code using f string(it's  less messy), use curly brackets instead of + +\n",
    "madlibs2 = f\" Hey! welcome to my {noun}. Here we {verb} about {noun2} and have fun with {noun3}. Make sure you {verb} to my {noun4}.\"\n",
    "madlibs2"
   ]
  },
  {
   "cell_type": "markdown",
   "metadata": {},
   "source": [
    "## Guessing Game"
   ]
  },
  {
   "cell_type": "code",
   "execution_count": 4,
   "metadata": {},
   "outputs": [],
   "source": [
    "import random"
   ]
  },
  {
   "cell_type": "code",
   "execution_count": 5,
   "metadata": {},
   "outputs": [
    {
     "name": "stdout",
     "output_type": "stream",
     "text": [
      "Guess a number between 1 and 10:8\n",
      "Sorry, guess again. Too high\n",
      "Guess a number between 1 and 10:4\n",
      "Sorry, guess again. Too low\n",
      "Guess a number between 1 and 10:6\n",
      "Yay, congrats. You have guessed the number 6 correctly\n"
     ]
    }
   ],
   "source": [
    "#trying to guess a number a computer randomly generates\n",
    "def guess(x):\n",
    "    #random number that the computer generates\n",
    "    random_number = random.randint(1, x)\n",
    "    #my guess will never be equal to zero, just initializing a guess number\n",
    "    guess = 0\n",
    "    while guess != random_number:\n",
    "        guess =int(input(f\"Guess a number between 1 and {x}:\"))\n",
    "        if guess < random_number:\n",
    "            print(\"Sorry, guess again. Too low\")\n",
    "        elif guess > random_number :\n",
    "            print(\"Sorry, guess again. Too high\")\n",
    "    print(f\"Yay, congrats. You have guessed the number {random_number} correctly\")\n",
    "        \n",
    "            \n",
    "       \n",
    "        \n",
    "                         \n",
    "guess(10)                         \n",
    "        \n",
    "        \n",
    "    "
   ]
  },
  {
   "cell_type": "code",
   "execution_count": null,
   "metadata": {},
   "outputs": [],
   "source": []
  }
 ],
 "metadata": {
  "kernelspec": {
   "display_name": "Python 3",
   "language": "python",
   "name": "python3"
  },
  "language_info": {
   "codemirror_mode": {
    "name": "ipython",
    "version": 3
   },
   "file_extension": ".py",
   "mimetype": "text/x-python",
   "name": "python",
   "nbconvert_exporter": "python",
   "pygments_lexer": "ipython3",
   "version": "3.8.5"
  }
 },
 "nbformat": 4,
 "nbformat_minor": 4
}
